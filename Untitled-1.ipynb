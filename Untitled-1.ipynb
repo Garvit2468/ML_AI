{
 "cells": [
  {
   "cell_type": "code",
   "execution_count": 2,
   "metadata": {},
   "outputs": [
    {
     "name": "stdout",
     "output_type": "stream",
     "text": [
      "0.5\n",
      "200\n"
     ]
    }
   ],
   "source": [
    "a=10\n",
    "b=20\n",
    "c=a/b\n",
    "d=a*b\n",
    "print(c)\n",
    "print(d)"
   ]
  },
  {
   "cell_type": "code",
   "execution_count": 1,
   "metadata": {},
   "outputs": [
    {
     "data": {
      "text/plain": [
       "['False',\n",
       " 'None',\n",
       " 'True',\n",
       " 'and',\n",
       " 'as',\n",
       " 'assert',\n",
       " 'async',\n",
       " 'await',\n",
       " 'break',\n",
       " 'class',\n",
       " 'continue',\n",
       " 'def',\n",
       " 'del',\n",
       " 'elif',\n",
       " 'else',\n",
       " 'except',\n",
       " 'finally',\n",
       " 'for',\n",
       " 'from',\n",
       " 'global',\n",
       " 'if',\n",
       " 'import',\n",
       " 'in',\n",
       " 'is',\n",
       " 'lambda',\n",
       " 'nonlocal',\n",
       " 'not',\n",
       " 'or',\n",
       " 'pass',\n",
       " 'raise',\n",
       " 'return',\n",
       " 'try',\n",
       " 'while',\n",
       " 'with',\n",
       " 'yield']"
      ]
     },
     "execution_count": 1,
     "metadata": {},
     "output_type": "execute_result"
    }
   ],
   "source": [
    "from keyword import kwlist\n",
    "kwlist"
   ]
  },
  {
   "cell_type": "code",
   "execution_count": null,
   "metadata": {},
   "outputs": [],
   "source": [
    "#identifiers\n",
    "#keywords\n",
    "#operators\n",
    "    # 1.Arithmetic: +, -, /, *, **, //, %\n",
    "    # 2.Relational: ==, !=, >, <, >=, <=\n",
    "    # 3.Assignment: =, +=, -=, *=,.....\n",
    "    # 4.Logical: and, or, not\n",
    "    # 5.Membership: in, not in\n",
    "    # 6.Bitwise: &,|, ^, ~, <<, >>  \n",
    "    # 7.Identify: is, is not\n",
    "# Data Types / Data Classes\n",
    "    # Numeric: int, float, complex\n",
    "    # Sequences: \n",
    "    #       str: immutable collection of characters '' \"\" ''' '''\n",
    "    #  []   list: mutable & unstructured coll of het elements\n",
    "    #  ()   tuple: immutable & unstructured coll of het. elements\n",
    "    # Mapping:\n",
    "    #  {}   dict: mutable & structured coll of key-value pairs\n",
    "    # Set:\n",
    "    #  {}   set: unordered coll of unique items\n",
    "    # Boolean:\n",
    "        # bool:  True False (Anything non-zero or non-empty is true)\n",
    "    # Empty Data:\n",
    "        # NoneType: None\n",
    "    # Data Operations (Collections)\n",
    "        # 1. Item Accessing (Indexing/Slicing/subscripting)\n",
    "        # 2. Item Insertion\n",
    "        # 3. Item Assignment (possible with mutable only)\n",
    "        # 4. Item Deletion (possible with mutable only)\n",
    "    # Data type built-in functions\n",
    "        # str: upper, lower, find, split, strip, join, format, count\n",
    "        # list: append, sort, count, copy, insert, remove, index, pop\n",
    "        # tuple: count, index\n",
    "        # dict: keys, values, update, get, pop\n",
    "        # set: add, difference, union, pop, remove\n"
   ]
  },
  {
   "cell_type": "code",
   "execution_count": 1,
   "metadata": {},
   "outputs": [
    {
     "data": {
      "text/plain": [
       "'ek aisa data jo 20 to 30 hai lekin 20 hi kaafi hai'"
      ]
     },
     "execution_count": 1,
     "metadata": {},
     "output_type": "execute_result"
    }
   ],
   "source": [
    "## String Formatting \n",
    "x = 20\n",
    "y = 30\n",
    "# z = 'ek aisa data jo 20 to 30 hai'\n",
    "\n",
    "# (Format Specifiers)\n",
    "z = 'ek aisa data jo %d to %d hai'%(x,y)\n",
    "\n",
    "# using format function \n",
    "z = 'ek aisa data jo {} to {} hai'\n",
    "z = z.format(x,y)\n",
    "# z = 'ek aisa data jo {} to {} hai'.format(x,y)\n",
    "# ek aisa data jo 20 to 30 hai lekin 20 hi kaafi hai\n",
    "z1 = 'ek aisa data jo {0} to {1} hai lekin {0} hi kaafi hai'\n",
    "z1.format (x,y)\n",
    "\n",
    "# using f-string\n",
    "f'anything'\n",
    "\n",
    "zf = f'ek aisa data jo {x} to {y} hai lekin {x} hi kaafi hai'\n",
    "zf"
   ]
  },
  {
   "cell_type": "code",
   "execution_count": null,
   "metadata": {},
   "outputs": [],
   "source": [
    "# 1. No Input and no output args \n",
    "# 2. Input arg but not output args\n",
    "# 3. No input but output args are there\n",
    "# 4. Both are there\n",
    "\n",
    "# a. In-place (self update)\n",
    "# b. Non in-place"
   ]
  },
  {
   "cell_type": "code",
   "execution_count": 3,
   "metadata": {},
   "outputs": [],
   "source": [
    "g ={3:[4,5], 'a':44}"
   ]
  },
  {
   "cell_type": "code",
   "execution_count": 6,
   "metadata": {},
   "outputs": [
    {
     "data": {
      "text/plain": [
       "dict_keys([3, 'a'])"
      ]
     },
     "execution_count": 6,
     "metadata": {},
     "output_type": "execute_result"
    }
   ],
   "source": [
    "g.keys()"
   ]
  },
  {
   "cell_type": "code",
   "execution_count": 7,
   "metadata": {},
   "outputs": [
    {
     "data": {
      "text/plain": [
       "dict_keys"
      ]
     },
     "execution_count": 7,
     "metadata": {},
     "output_type": "execute_result"
    }
   ],
   "source": [
    "type(g.keys())"
   ]
  },
  {
   "cell_type": "code",
   "execution_count": 8,
   "metadata": {},
   "outputs": [
    {
     "data": {
      "text/plain": [
       "3"
      ]
     },
     "execution_count": 8,
     "metadata": {},
     "output_type": "execute_result"
    }
   ],
   "source": [
    "list(g.keys())[0]"
   ]
  },
  {
   "cell_type": "code",
   "execution_count": 9,
   "metadata": {},
   "outputs": [
    {
     "name": "stdout",
     "output_type": "stream",
     "text": [
      "None\n"
     ]
    }
   ],
   "source": [
    "print(g.get('b'))"
   ]
  },
  {
   "cell_type": "code",
   "execution_count": 10,
   "metadata": {},
   "outputs": [],
   "source": [
    "s = '468hi3.4'\n",
    "a = [4,6,8,'hi',3.4]\n",
    "b = (4,6,8,'hi',3.4)\n",
    "c = {4:6,8:['hi',3.4]}\n",
    "d = {4,6,8,'hi',3.4}"
   ]
  },
  {
   "cell_type": "code",
   "execution_count": 11,
   "metadata": {},
   "outputs": [
    {
     "data": {
      "text/plain": [
       "44"
      ]
     },
     "execution_count": 11,
     "metadata": {},
     "output_type": "execute_result"
    }
   ],
   "source": [
    "g.get('a','not found')"
   ]
  },
  {
   "cell_type": "code",
   "execution_count": 12,
   "metadata": {},
   "outputs": [
    {
     "name": "stdout",
     "output_type": "stream",
     "text": [
      "[1, 2, 3, 4, 5, {3: [4, 5], 'a': 44}]\n",
      "[1, 2, 3, 4, 5, {3: [4, 5], 'a': 44}]\n",
      "[1, 2, 3, 4, 5]\n"
     ]
    }
   ],
   "source": [
    "e = [1,2,3,4,5]\n",
    "e3 = e\n",
    "e4 = e.copy()\n",
    "e3.append(g)\n",
    "print(e)\n",
    "print(e3)\n",
    "print(e4)"
   ]
  },
  {
   "cell_type": "code",
   "execution_count": null,
   "metadata": {},
   "outputs": [],
   "source": []
  },
  {
   "cell_type": "code",
   "execution_count": 2,
   "metadata": {},
   "outputs": [
    {
     "data": {
      "text/plain": [
       "(str, list, tuple, dict, set)"
      ]
     },
     "execution_count": 2,
     "metadata": {},
     "output_type": "execute_result"
    }
   ],
   "source": [
    "type(s),type(a),type(b),type(c),type(d)"
   ]
  },
  {
   "cell_type": "code",
   "execution_count": 3,
   "metadata": {},
   "outputs": [
    {
     "data": {
      "text/plain": [
       "(8, 5, 5, 2, 5)"
      ]
     },
     "execution_count": 3,
     "metadata": {},
     "output_type": "execute_result"
    }
   ],
   "source": [
    "len(s),len(a),len(b),len(c),len(d)"
   ]
  },
  {
   "cell_type": "code",
   "execution_count": 30,
   "metadata": {},
   "outputs": [
    {
     "data": {
      "text/plain": [
       "'jobjobhi aapchaheinjobhi aapchaheinhi aapchahein'"
      ]
     },
     "execution_count": 30,
     "metadata": {},
     "output_type": "execute_result"
    }
   ],
   "source": [
    "s"
   ]
  },
  {
   "cell_type": "code",
   "execution_count": 31,
   "metadata": {},
   "outputs": [],
   "source": [
    "## Item Assignment\n",
    "# s[0] = 'A'        # not possible\n",
    "# a[0] = 'A'        # done\n",
    "# b[0] = 'A'        # not possible\n",
    "# c[4] = 'A'        # done\n",
    "\n",
    "## Item Deletion\n",
    "# del s[0]  # not possible\n",
    "# del a[0]  # done\n",
    "# del b[0]  # not possible\n",
    "# del c[4]  # done\n"
   ]
  },
  {
   "cell_type": "code",
   "execution_count": 32,
   "metadata": {},
   "outputs": [],
   "source": [
    "d = 'hello'"
   ]
  },
  {
   "cell_type": "code",
   "execution_count": 35,
   "metadata": {},
   "outputs": [],
   "source": [
    "d = d.upper()"
   ]
  },
  {
   "cell_type": "code",
   "execution_count": 37,
   "metadata": {},
   "outputs": [
    {
     "data": {
      "text/plain": [
       "<function str.upper()>"
      ]
     },
     "execution_count": 37,
     "metadata": {},
     "output_type": "execute_result"
    }
   ],
   "source": [
    "d"
   ]
  },
  {
   "cell_type": "code",
   "execution_count": null,
   "metadata": {},
   "outputs": [],
   "source": []
  },
  {
   "cell_type": "code",
   "execution_count": 9,
   "metadata": {},
   "outputs": [
    {
     "data": {
      "text/plain": [
       "'468hi3.4k'"
      ]
     },
     "execution_count": 9,
     "metadata": {},
     "output_type": "execute_result"
    }
   ],
   "source": [
    "s += 'k'\n",
    "s"
   ]
  },
  {
   "cell_type": "code",
   "execution_count": 12,
   "metadata": {},
   "outputs": [
    {
     "data": {
      "text/plain": [
       "''"
      ]
     },
     "execution_count": 12,
     "metadata": {},
     "output_type": "execute_result"
    }
   ],
   "source": [
    "s = s[3:]\n",
    "s"
   ]
  },
  {
   "cell_type": "code",
   "execution_count": 13,
   "metadata": {},
   "outputs": [
    {
     "data": {
      "text/plain": [
       "''"
      ]
     },
     "execution_count": 13,
     "metadata": {},
     "output_type": "execute_result"
    }
   ],
   "source": [
    "s"
   ]
  },
  {
   "cell_type": "code",
   "execution_count": 16,
   "metadata": {},
   "outputs": [
    {
     "data": {
      "text/plain": [
       "'jobjobhi aapchaheinjobhi aapchaheinhi aapchahein'"
      ]
     },
     "execution_count": 16,
     "metadata": {},
     "output_type": "execute_result"
    }
   ],
   "source": [
    "s = s[:3] + 'jobhi aapchahein' + s[3:]\n",
    "s"
   ]
  },
  {
   "cell_type": "code",
   "execution_count": 20,
   "metadata": {},
   "outputs": [
    {
     "data": {
      "text/plain": [
       "[4, 6, 8, 'hi', 3.4, 'bye', 'bye', 'bye']"
      ]
     },
     "execution_count": 20,
     "metadata": {},
     "output_type": "execute_result"
    }
   ],
   "source": [
    "a +=['bye']\n",
    "a"
   ]
  },
  {
   "cell_type": "code",
   "execution_count": 23,
   "metadata": {},
   "outputs": [],
   "source": [
    "b +=('bye',)"
   ]
  },
  {
   "cell_type": "code",
   "execution_count": 24,
   "metadata": {},
   "outputs": [
    {
     "data": {
      "text/plain": [
       "(4, 6, 8, 'hi', 3.4, 'bye')"
      ]
     },
     "execution_count": 24,
     "metadata": {},
     "output_type": "execute_result"
    }
   ],
   "source": [
    "b"
   ]
  },
  {
   "cell_type": "code",
   "execution_count": 25,
   "metadata": {},
   "outputs": [
    {
     "data": {
      "text/plain": [
       "(4, 6, 8, 'hi', 3.4, 'bye', 'bye', 'bye', 4, 6, 8, 'hi', 3.4, 'bye')"
      ]
     },
     "execution_count": 25,
     "metadata": {},
     "output_type": "execute_result"
    }
   ],
   "source": [
    "(*a,*b)"
   ]
  },
  {
   "cell_type": "code",
   "execution_count": 26,
   "metadata": {},
   "outputs": [
    {
     "data": {
      "text/plain": [
       "(4,\n",
       " 6,\n",
       " 8,\n",
       " 'hi',\n",
       " 3.4,\n",
       " 'bye',\n",
       " 'bye',\n",
       " 'bye',\n",
       " 4,\n",
       " 6,\n",
       " 8,\n",
       " 'hi',\n",
       " 3.4,\n",
       " 'bye',\n",
       " 'j',\n",
       " 'o',\n",
       " 'b',\n",
       " 'j',\n",
       " 'o',\n",
       " 'b',\n",
       " 'h',\n",
       " 'i',\n",
       " ' ',\n",
       " 'a',\n",
       " 'a',\n",
       " 'p',\n",
       " 'c',\n",
       " 'h',\n",
       " 'a',\n",
       " 'h',\n",
       " 'e',\n",
       " 'i',\n",
       " 'n',\n",
       " 'j',\n",
       " 'o',\n",
       " 'b',\n",
       " 'h',\n",
       " 'i',\n",
       " ' ',\n",
       " 'a',\n",
       " 'a',\n",
       " 'p',\n",
       " 'c',\n",
       " 'h',\n",
       " 'a',\n",
       " 'h',\n",
       " 'e',\n",
       " 'i',\n",
       " 'n',\n",
       " 'h',\n",
       " 'i',\n",
       " ' ',\n",
       " 'a',\n",
       " 'a',\n",
       " 'p',\n",
       " 'c',\n",
       " 'h',\n",
       " 'a',\n",
       " 'h',\n",
       " 'e',\n",
       " 'i',\n",
       " 'n')"
      ]
     },
     "execution_count": 26,
     "metadata": {},
     "output_type": "execute_result"
    }
   ],
   "source": [
    "(*a,*b,*s)              # is use to add any str, tuple,etc.\n",
    "                        # args and kwargs"
   ]
  },
  {
   "cell_type": "code",
   "execution_count": 27,
   "metadata": {},
   "outputs": [
    {
     "data": {
      "text/plain": [
       "{4: 6, 8: ['hi', 3.4], 99: [86, 'ekvalue']}"
      ]
     },
     "execution_count": 27,
     "metadata": {},
     "output_type": "execute_result"
    }
   ],
   "source": [
    "c[99] = [86,'ekvalue']\n",
    "c"
   ]
  },
  {
   "cell_type": "code",
   "execution_count": 28,
   "metadata": {},
   "outputs": [
    {
     "name": "stdout",
     "output_type": "stream",
     "text": [
      "{4: 6, 8: ['hi', 3.4], 99: [86, 'ekvalue']}\n",
      "{'a': 45, 'b': 35}\n"
     ]
    }
   ],
   "source": [
    "c2 = {'a':45, 'b':35}\n",
    "print(c)\n",
    "print(c2)"
   ]
  },
  {
   "cell_type": "code",
   "execution_count": 29,
   "metadata": {},
   "outputs": [
    {
     "data": {
      "text/plain": [
       "{4: 6, 8: ['hi', 3.4], 99: [86, 'ekvalue'], 'a': 45, 'b': 35}"
      ]
     },
     "execution_count": 29,
     "metadata": {},
     "output_type": "execute_result"
    }
   ],
   "source": [
    "{**c,**c2}"
   ]
  },
  {
   "cell_type": "code",
   "execution_count": null,
   "metadata": {},
   "outputs": [],
   "source": [
    "# (*args,**kwargs)"
   ]
  },
  {
   "cell_type": "code",
   "execution_count": null,
   "metadata": {},
   "outputs": [],
   "source": []
  },
  {
   "cell_type": "code",
   "execution_count": 8,
   "metadata": {},
   "outputs": [
    {
     "data": {
      "text/plain": [
       "'hihihi'"
      ]
     },
     "execution_count": 8,
     "metadata": {},
     "output_type": "execute_result"
    }
   ],
   "source": [
    "'hi' * 3"
   ]
  },
  {
   "cell_type": "code",
   "execution_count": 5,
   "metadata": {},
   "outputs": [
    {
     "data": {
      "text/plain": [
       "'hik'"
      ]
     },
     "execution_count": 5,
     "metadata": {},
     "output_type": "execute_result"
    }
   ],
   "source": [
    "'hi' + 'k'"
   ]
  },
  {
   "cell_type": "code",
   "execution_count": 6,
   "metadata": {},
   "outputs": [
    {
     "data": {
      "text/plain": [
       "[4, 5, 3, 6]"
      ]
     },
     "execution_count": 6,
     "metadata": {},
     "output_type": "execute_result"
    }
   ],
   "source": [
    "[4,5] + [3,6]"
   ]
  },
  {
   "cell_type": "code",
   "execution_count": 7,
   "metadata": {},
   "outputs": [
    {
     "data": {
      "text/plain": [
       "(4, 5, 3, 6)"
      ]
     },
     "execution_count": 7,
     "metadata": {},
     "output_type": "execute_result"
    }
   ],
   "source": [
    "(4,5) + (3,6)"
   ]
  },
  {
   "cell_type": "code",
   "execution_count": null,
   "metadata": {},
   "outputs": [],
   "source": []
  },
  {
   "cell_type": "code",
   "execution_count": null,
   "metadata": {},
   "outputs": [],
   "source": []
  },
  {
   "cell_type": "code",
   "execution_count": 10,
   "metadata": {},
   "outputs": [
    {
     "data": {
      "text/plain": [
       "'tnemetatS'"
      ]
     },
     "execution_count": 10,
     "metadata": {},
     "output_type": "execute_result"
    }
   ],
   "source": [
    "# slicing s[start : stop (not included) : stepsize]\n",
    "######### s[0     : end                 : +1 ]\n",
    "######### s[ end  : 0                   : -ve]\n",
    "s = 'A Sample python Statement'\n",
    "s[:-10:-1]"
   ]
  },
  {
   "cell_type": "code",
   "execution_count": 11,
   "metadata": {},
   "outputs": [
    {
     "data": {
      "text/plain": [
       "'tnemetatS nohtyp elpmaS A'"
      ]
     },
     "execution_count": 11,
     "metadata": {},
     "output_type": "execute_result"
    }
   ],
   "source": [
    "s[::-1]"
   ]
  },
  {
   "cell_type": "code",
   "execution_count": 3,
   "metadata": {},
   "outputs": [
    {
     "name": "stdout",
     "output_type": "stream",
     "text": [
      "\n",
      "Here is a list of the Python keywords.  Enter any keyword to get more help.\n",
      "\n",
      "False               class               from                or\n",
      "None                continue            global              pass\n",
      "True                def                 if                  raise\n",
      "and                 del                 import              return\n",
      "as                  elif                in                  try\n",
      "assert              else                is                  while\n",
      "async               except              lambda              with\n",
      "await               finally             nonlocal            yield\n",
      "break               for                 not                 \n",
      "\n"
     ]
    }
   ],
   "source": [
    "help('keywords')"
   ]
  },
  {
   "cell_type": "code",
   "execution_count": 12,
   "metadata": {},
   "outputs": [],
   "source": [
    "d1 = [{'a':34},66,{'66':[{'00':[98,'hi']}, 'awesome', {'m':'n'}]}]"
   ]
  },
  {
   "cell_type": "code",
   "execution_count": 16,
   "metadata": {},
   "outputs": [
    {
     "data": {
      "text/plain": [
       "66"
      ]
     },
     "execution_count": 16,
     "metadata": {},
     "output_type": "execute_result"
    }
   ],
   "source": [
    "d1[1]"
   ]
  },
  {
   "cell_type": "code",
   "execution_count": 27,
   "metadata": {},
   "outputs": [
    {
     "data": {
      "text/plain": [
       "98"
      ]
     },
     "execution_count": 27,
     "metadata": {},
     "output_type": "execute_result"
    }
   ],
   "source": [
    "d1[2]['66'][0]['00'][0]"
   ]
  },
  {
   "cell_type": "code",
   "execution_count": null,
   "metadata": {},
   "outputs": [],
   "source": []
  },
  {
   "cell_type": "code",
   "execution_count": null,
   "metadata": {},
   "outputs": [],
   "source": []
  }
 ],
 "metadata": {
  "kernelspec": {
   "display_name": "Python 3",
   "language": "python",
   "name": "python3"
  },
  "language_info": {
   "codemirror_mode": {
    "name": "ipython",
    "version": 3
   },
   "file_extension": ".py",
   "mimetype": "text/x-python",
   "name": "python",
   "nbconvert_exporter": "python",
   "pygments_lexer": "ipython3",
   "version": "3.10.10"
  },
  "orig_nbformat": 4,
  "vscode": {
   "interpreter": {
    "hash": "d7ad5c45fa6d96355b659146ba698d0284a533ec2a18c1554bb22fb2fea79887"
   }
  }
 },
 "nbformat": 4,
 "nbformat_minor": 2
}
