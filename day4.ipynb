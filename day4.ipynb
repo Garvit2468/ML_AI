{
 "cells": [
  {
   "cell_type": "code",
   "execution_count": null,
   "metadata": {},
   "outputs": [],
   "source": [
    "# Actual Programming\n",
    "\n",
    "# Logics\n",
    "# 1. Conditions\n",
    "# 2. Loops\n",
    "# 3. Errors\n",
    "# 4. FUnctions\n",
    "# 5. Classess\n",
    "# 6. Library"
   ]
  },
  {
   "cell_type": "code",
   "execution_count": 2,
   "metadata": {},
   "outputs": [
    {
     "name": "stdout",
     "output_type": "stream",
     "text": [
      "or ye to bada hai\n",
      "ye bhi theek hi hai\n",
      "ye ho gaya\n",
      "sab khatam\n"
     ]
    }
   ],
   "source": [
    "a=10\n",
    "if(a > 5):\n",
    "    print(\"or ye to bada hai\")\n",
    "    if(a < 100):\n",
    "        print(\"ye bhi theek hi hai\")\n",
    "    print(\"ye ho gaya\")\n",
    "elif (a < -20):\n",
    "    print(\"ye bhut chota hai\")\n",
    "elif (a ==3):\n",
    "    print('ye wala 3 hai')\n",
    "else:\n",
    "    print(\"ye theek hai\")\n",
    "print('sab khatam')\n"
   ]
  },
  {
   "cell_type": "code",
   "execution_count": null,
   "metadata": {},
   "outputs": [],
   "source": [
    "# Conditional Statement\n",
    "    # if-elif-else\n",
    "# Looping\n",
    "    # While-else\n",
    "    # for-else  \n",
    "    # continue/break\n",
    "# \n"
   ]
  },
  {
   "cell_type": "code",
   "execution_count": null,
   "metadata": {},
   "outputs": [],
   "source": []
  }
 ],
 "metadata": {
  "kernelspec": {
   "display_name": "Python 3",
   "language": "python",
   "name": "python3"
  },
  "language_info": {
   "codemirror_mode": {
    "name": "ipython",
    "version": 3
   },
   "file_extension": ".py",
   "mimetype": "text/x-python",
   "name": "python",
   "nbconvert_exporter": "python",
   "pygments_lexer": "ipython3",
   "version": "3.10.10"
  },
  "orig_nbformat": 4
 },
 "nbformat": 4,
 "nbformat_minor": 2
}
